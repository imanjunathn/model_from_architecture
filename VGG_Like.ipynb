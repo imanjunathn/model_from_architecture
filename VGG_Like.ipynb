{
  "nbformat": 4,
  "nbformat_minor": 0,
  "metadata": {
    "colab": {
      "provenance": []
    },
    "kernelspec": {
      "name": "python3",
      "display_name": "Python 3"
    },
    "language_info": {
      "name": "python"
    },
    "accelerator": "GPU",
    "gpuClass": "standard"
  },
  "cells": [
    {
      "cell_type": "code",
      "execution_count": 24,
      "metadata": {
        "id": "Dta0VgODnL_h"
      },
      "outputs": [],
      "source": [
        "import tensorflow as tf\n",
        "import tensorflow\n",
        "from tensorflow import keras\n",
        "from tensorflow.keras.datasets import mnist,fashion_mnist\n",
        "from keras import layers\n"
      ]
    },
    {
      "cell_type": "code",
      "source": [
        "(x_train,y_train),(x_test,y_test) = fashion_mnist.load_data()"
      ],
      "metadata": {
        "colab": {
          "base_uri": "https://localhost:8080/"
        },
        "id": "bSxmUG-ynVve",
        "outputId": "a37c9793-6103-4647-d83b-15476f62bb1d"
      },
      "execution_count": 25,
      "outputs": [
        {
          "output_type": "stream",
          "name": "stdout",
          "text": [
            "Downloading data from https://storage.googleapis.com/tensorflow/tf-keras-datasets/train-labels-idx1-ubyte.gz\n",
            "29515/29515 [==============================] - 0s 0us/step\n",
            "Downloading data from https://storage.googleapis.com/tensorflow/tf-keras-datasets/train-images-idx3-ubyte.gz\n",
            "26421880/26421880 [==============================] - 2s 0us/step\n",
            "Downloading data from https://storage.googleapis.com/tensorflow/tf-keras-datasets/t10k-labels-idx1-ubyte.gz\n",
            "5148/5148 [==============================] - 0s 0us/step\n",
            "Downloading data from https://storage.googleapis.com/tensorflow/tf-keras-datasets/t10k-images-idx3-ubyte.gz\n",
            "4422102/4422102 [==============================] - 0s 0us/step\n"
          ]
        }
      ]
    },
    {
      "cell_type": "code",
      "source": [
        "x_train = x_train.reshape(-1,28,28,1).astype(\"float32\")/255.0\n",
        "x_test = x_test.reshape(-1,28,28,1).astype(\"float32\")/255.0"
      ],
      "metadata": {
        "id": "KEFMDv53nYB9"
      },
      "execution_count": 26,
      "outputs": []
    },
    {
      "cell_type": "code",
      "source": [
        "class CNNBlock(layers.Layer):\n",
        "  def __init__(self,out_chanels,kernel_size=3):\n",
        "    super(CNNBlock,self).__init__()\n",
        "    self.conv = layers.Conv2D(out_chanels,kernel_size,padding='same')\n",
        "    self.bn = layers.BatchNormalization()\n",
        "\n",
        "  def call(self,input_tensor, training=False):\n",
        "    x = self.conv(input_tensor)\n",
        "    x = self.bn(x,training=training)\n",
        "    x = tf.nn.relu(x)\n",
        "    return x"
      ],
      "metadata": {
        "id": "1CdSXXG0naLD"
      },
      "execution_count": 27,
      "outputs": []
    },
    {
      "cell_type": "code",
      "source": [
        "class VGGBlock(layers.Layer):\n",
        "  def __init__(self,channels,extra_cnn_block = False):\n",
        "    super(VGGBlock,self).__init__()\n",
        "    self.cnn1 = CNNBlock(channels[0])\n",
        "    self.cnn2 = CNNBlock(channels[0])\n",
        "    self.extra_cnn_block = extra_cnn_block\n",
        "    if self.extra_cnn_block:\n",
        "      self.cnn3 = CNNBlock(channels[0])\n",
        "    self.pooling = layers.MaxPool2D(pool_size=(2,2),strides=(2,2))\n",
        "\n",
        "  def call(self,input_tensor,training=False):\n",
        "    x = self.cnn1(input_tensor,training=training)\n",
        "    x = self.cnn2(x,training=training)\n",
        "    if self.extra_cnn_block:\n",
        "      x =  self.cnn3(x,training=training)\n",
        "    x = self.pooling(x)\n",
        "    return x"
      ],
      "metadata": {
        "id": "LLIXVta4ndib"
      },
      "execution_count": 28,
      "outputs": []
    },
    {
      "cell_type": "code",
      "source": [
        "class VGG_DenseBlock(layers.Layer):\n",
        "  def __init__(self,units):\n",
        "    super(VGG_DenseBlock,self).__init__()\n",
        "    self.dense = layers.Dense(units)\n",
        "    self.drop = layers.Dropout(0.5)\n",
        "    \n",
        "  def call(self,input_tensor,training=False):\n",
        "    x = self.dense(input_tensor,training=training)\n",
        "    x = self.drop(x,training=training)\n",
        "    x = tf.nn.relu(x)\n",
        "    return x"
      ],
      "metadata": {
        "id": "paiulYApnf2O"
      },
      "execution_count": 29,
      "outputs": []
    },
    {
      "cell_type": "code",
      "source": [
        "class VGG_Like(keras.Model):\n",
        "  def __init__(self,input_s,num_classes = 10):\n",
        "    super(VGG_Like,self).__init__()\n",
        "    self.input_s = input_s\n",
        "    self.block1 = VGGBlock([64])\n",
        "    self.block2 = VGGBlock([128])\n",
        "    # self.block3 = VGGBlock([256],True)\n",
        "    # self.block4 = VGGBlock([512],True)\n",
        "    # self.block5 = VGGBlock([8],True)\n",
        "    self.flatten = layers.Flatten()\n",
        "    self.dense1 = VGG_DenseBlock(4096)\n",
        "    self.dense2 = VGG_DenseBlock(4096)\n",
        "    self.classifier = layers.Dense(num_classes)\n",
        "\n",
        "  def call(self,input_tensor,training=False):\n",
        "    x = self.block1(input_tensor,training=training)\n",
        "    x = self.block2(x,training=training)\n",
        "    # x = self.block3(x,training=training)\n",
        "    # x = self.block4(x,training=training)\n",
        "    # x = self.block5(x,training=training)\n",
        "    x = self.flatten(x,training=training)\n",
        "    x = self.dense1(x,training=training)\n",
        "    x = self.dense2(x,training=training)\n",
        "    out =  self.classifier(x)\n",
        "    return out\n",
        "\n",
        "  def model(self):\n",
        "    x = keras.Input(shape=self.input_s)\n",
        "    return keras.Model(inputs=[x],outputs=self.call(x))\n"
      ],
      "metadata": {
        "id": "WzE8RK1DnicO"
      },
      "execution_count": 30,
      "outputs": []
    },
    {
      "cell_type": "code",
      "source": [
        "model = VGG_Like(input_s=(28,28,1))"
      ],
      "metadata": {
        "id": "xUBvLUganlJp"
      },
      "execution_count": 31,
      "outputs": []
    },
    {
      "cell_type": "code",
      "source": [
        "model.compile(\n",
        "    optimizer = keras.optimizers.Adam(),\n",
        "    loss = keras.losses.SparseCategoricalCrossentropy(from_logits=True),\n",
        "    metrics= ['accuracy'] \n",
        ")"
      ],
      "metadata": {
        "id": "_kOtvqIMnlED"
      },
      "execution_count": 32,
      "outputs": []
    },
    {
      "cell_type": "code",
      "source": [
        "model.model().summary()"
      ],
      "metadata": {
        "colab": {
          "base_uri": "https://localhost:8080/"
        },
        "id": "FBq128mGnphN",
        "outputId": "3fe504a1-af22-4cd7-f4fc-4b29c0a43f4f"
      },
      "execution_count": 33,
      "outputs": [
        {
          "output_type": "stream",
          "name": "stdout",
          "text": [
            "Model: \"model_2\"\n",
            "_________________________________________________________________\n",
            " Layer (type)                Output Shape              Param #   \n",
            "=================================================================\n",
            " input_3 (InputLayer)        [(None, 28, 28, 1)]       0         \n",
            "                                                                 \n",
            " vgg_block_6 (VGGBlock)      (None, 14, 14, 64)        38080     \n",
            "                                                                 \n",
            " vgg_block_7 (VGGBlock)      (None, 7, 7, 128)         222464    \n",
            "                                                                 \n",
            " flatten_3 (Flatten)         (None, 6272)              0         \n",
            "                                                                 \n",
            " vgg__dense_block_6 (VGG_Den  (None, 4096)             25694208  \n",
            " seBlock)                                                        \n",
            "                                                                 \n",
            " vgg__dense_block_7 (VGG_Den  (None, 4096)             16781312  \n",
            " seBlock)                                                        \n",
            "                                                                 \n",
            " dense_11 (Dense)            (None, 10)                40970     \n",
            "                                                                 \n",
            "=================================================================\n",
            "Total params: 42,777,034\n",
            "Trainable params: 42,776,266\n",
            "Non-trainable params: 768\n",
            "_________________________________________________________________\n"
          ]
        }
      ]
    },
    {
      "cell_type": "code",
      "source": [
        "model.fit(x_train,y_train,batch_size=64,epochs=3,verbose=2)\n",
        "model.evaluate(x_test,y_test,batch_size=64,verbose=2)"
      ],
      "metadata": {
        "colab": {
          "base_uri": "https://localhost:8080/"
        },
        "id": "gjzpiiu5nr4A",
        "outputId": "73a2b33a-617a-4ce2-8db0-bc8b50004642"
      },
      "execution_count": 34,
      "outputs": [
        {
          "output_type": "stream",
          "name": "stdout",
          "text": [
            "Epoch 1/3\n",
            "938/938 - 20s - loss: 1.0075 - accuracy: 0.7268 - 20s/epoch - 22ms/step\n",
            "Epoch 2/3\n",
            "938/938 - 19s - loss: 0.5646 - accuracy: 0.8044 - 19s/epoch - 20ms/step\n",
            "Epoch 3/3\n",
            "938/938 - 19s - loss: 0.4642 - accuracy: 0.8394 - 19s/epoch - 21ms/step\n",
            "157/157 - 1s - loss: 0.3529 - accuracy: 0.8867 - 970ms/epoch - 6ms/step\n"
          ]
        },
        {
          "output_type": "execute_result",
          "data": {
            "text/plain": [
              "[0.35292866826057434, 0.8866999745368958]"
            ]
          },
          "metadata": {},
          "execution_count": 34
        }
      ]
    },
    {
      "cell_type": "code",
      "source": [],
      "metadata": {
        "id": "ARPD0peNo08f"
      },
      "execution_count": null,
      "outputs": []
    }
  ]
}